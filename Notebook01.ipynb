{
 "cells": [
  {
   "cell_type": "code",
   "execution_count": 2,
   "id": "aa85e11f",
   "metadata": {},
   "outputs": [
    {
     "name": "stdout",
     "output_type": "stream",
     "text": [
      "  letter  number\n",
      "0      a       1\n",
      "1      b       2\n",
      "2      c       1\n",
      "3      d       2\n"
     ]
    }
   ],
   "source": [
    "import numpy as np\n",
    "import pandas as pd\n",
    "\n",
    "df1 = pd.DataFrame([['a', 1], ['b', 2]],\n",
    "                   columns=['letter', 'number'])\n",
    "df2 = pd.DataFrame([['c', 1], ['d', 2]],\n",
    "                   columns=['letter', 'number'])\n",
    "\n",
    "result = pd.concat([df1, df2]).reset_index(drop=True)\n",
    "print(result)\n"
   ]
  },
  {
   "cell_type": "code",
   "execution_count": 3,
   "id": "6a20970a",
   "metadata": {},
   "outputs": [
    {
     "name": "stdout",
     "output_type": "stream",
     "text": [
      "  id Feature1_x Feature2_x Feature1_y Feature2_y\n",
      "0  1          A          B          K          L\n",
      "1  2          C          D          M          N\n",
      "  id Feature1_df1 Feature2_df1 Feature1_df2 Feature2_df2\n",
      "0  1            A            B            K            L\n",
      "1  2            C            D            M            N\n",
      "2  3            E            F          NaN          NaN\n",
      "3  4            G            H          NaN          NaN\n",
      "4  5            I            J          NaN          NaN\n",
      "5  6          NaN          NaN            O            P\n",
      "6  7          NaN          NaN            Q            R\n",
      "7  8          NaN          NaN            S            T\n"
     ]
    }
   ],
   "source": [
    "# Create DataFrames\n",
    "df1_dict = {'id': ['1', '2', '3', '4', '5'], 'Feature1': ['A', 'C', 'E', 'G', 'I'], 'Feature2': ['B', 'D', 'F', 'H', 'J']}\n",
    "df1 = pd.DataFrame(df1_dict, columns=['id', 'Feature1', 'Feature2'])\n",
    "\n",
    "df2_dict = {'id': ['1', '2', '6', '7', '8'], 'Feature1': ['K', 'M', 'O', 'Q', 'S'], 'Feature2': ['L', 'N', 'P', 'R', 'T']}\n",
    "df2 = pd.DataFrame(df2_dict, columns=['id', 'Feature1', 'Feature2'])\n",
    "\n",
    "# Inner merge (first output)\n",
    "inner_merge = pd.merge(df1, df2, on='id', how='inner')\n",
    "print(inner_merge)\n",
    "\n",
    "# Outer merge with custom suffixes (second output)\n",
    "outer_merge = pd.merge(df1, df2, on='id', how='outer', suffixes=('_df1', '_df2'))\n",
    "print(outer_merge)\n"
   ]
  },
  {
   "cell_type": "code",
   "execution_count": null,
   "id": "d040fb37",
   "metadata": {},
   "outputs": [],
   "source": []
  }
 ],
 "metadata": {
  "kernelspec": {
   "display_name": "ex00",
   "language": "python",
   "name": "python3"
  },
  "language_info": {
   "codemirror_mode": {
    "name": "ipython",
    "version": 3
   },
   "file_extension": ".py",
   "mimetype": "text/x-python",
   "name": "python",
   "nbconvert_exporter": "python",
   "pygments_lexer": "ipython3",
   "version": "3.9.23"
  }
 },
 "nbformat": 4,
 "nbformat_minor": 5
}
