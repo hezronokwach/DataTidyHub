{
 "cells": [
  {
   "cell_type": "code",
   "execution_count": 2,
   "id": "aa85e11f",
   "metadata": {},
   "outputs": [
    {
     "name": "stdout",
     "output_type": "stream",
     "text": [
      "  letter  number\n",
      "0      a       1\n",
      "1      b       2\n",
      "2      c       1\n",
      "3      d       2\n"
     ]
    }
   ],
   "source": [
    "import numpy as np\n",
    "import pandas as pd\n",
    "\n",
    "df1 = pd.DataFrame([['a', 1], ['b', 2]],\n",
    "                   columns=['letter', 'number'])\n",
    "df2 = pd.DataFrame([['c', 1], ['d', 2]],\n",
    "                   columns=['letter', 'number'])\n",
    "\n",
    "result = pd.concat([df1, df2]).reset_index(drop=True)\n",
    "print(result)\n"
   ]
  },
  {
   "cell_type": "code",
   "execution_count": 3,
   "id": "6a20970a",
   "metadata": {},
   "outputs": [
    {
     "name": "stdout",
     "output_type": "stream",
     "text": [
      "  id Feature1_x Feature2_x Feature1_y Feature2_y\n",
      "0  1          A          B          K          L\n",
      "1  2          C          D          M          N\n",
      "  id Feature1_df1 Feature2_df1 Feature1_df2 Feature2_df2\n",
      "0  1            A            B            K            L\n",
      "1  2            C            D            M            N\n",
      "2  3            E            F          NaN          NaN\n",
      "3  4            G            H          NaN          NaN\n",
      "4  5            I            J          NaN          NaN\n",
      "5  6          NaN          NaN            O            P\n",
      "6  7          NaN          NaN            Q            R\n",
      "7  8          NaN          NaN            S            T\n"
     ]
    }
   ],
   "source": [
    "# Create DataFrames\n",
    "df1_dict = {'id': ['1', '2', '3', '4', '5'], 'Feature1': ['A', 'C', 'E', 'G', 'I'], 'Feature2': ['B', 'D', 'F', 'H', 'J']}\n",
    "df1 = pd.DataFrame(df1_dict, columns=['id', 'Feature1', 'Feature2'])\n",
    "\n",
    "df2_dict = {'id': ['1', '2', '6', '7', '8'], 'Feature1': ['K', 'M', 'O', 'Q', 'S'], 'Feature2': ['L', 'N', 'P', 'R', 'T']}\n",
    "df2 = pd.DataFrame(df2_dict, columns=['id', 'Feature1', 'Feature2'])\n",
    "\n",
    "# Inner merge (first output)\n",
    "inner_merge = pd.merge(df1, df2, on='id', how='inner')\n",
    "print(inner_merge)\n",
    "\n",
    "# Outer merge with custom suffixes (second output)\n",
    "outer_merge = pd.merge(df1, df2, on='id', how='outer', suffixes=('_df1', '_df2'))\n",
    "print(outer_merge)\n"
   ]
  },
  {
   "cell_type": "code",
   "execution_count": 4,
   "id": "d040fb37",
   "metadata": {},
   "outputs": [
    {
     "name": "stdout",
     "output_type": "stream",
     "text": [
      "                       Open     Close  Close_Adjusted   Twitter    Reddit\n",
      "Date       Ticker                                                        \n",
      "2021-01-01 AAPL    1.372099  0.395455       -0.421215  0.013221 -0.867669\n",
      "           FB     -0.077251  0.813897       -0.000037  0.399663  0.598807\n",
      "           GE     -0.466587 -0.964317        1.010375  0.944634  0.725142\n",
      "           AMZN   -0.765704 -1.270169       -0.374002  1.953836 -0.226153\n",
      "           DAI    -1.190098  1.167919        1.290909  0.075956  1.605222\n",
      "2021-01-04 AAPL   -0.271713 -1.006941       -0.073501 -0.069997 -0.477994\n",
      "           FB     -1.907263 -1.223112       -0.085717  0.404221  0.056530\n",
      "           GE      0.944621 -0.161259        0.527041 -0.068544  1.463596\n",
      "           AMZN    1.880305  0.518711       -1.006707  0.378168 -1.243330\n",
      "           DAI    -0.610910  1.035021       -0.340169  1.355485  0.319479\n"
     ]
    }
   ],
   "source": [
    "# Generate dates and tickers\n",
    "all_dates = pd.date_range('2021-01-01', '2021-12-15')\n",
    "business_dates = pd.bdate_range('2021-01-01', '2021-12-31')\n",
    "tickers = ['AAPL', 'FB', 'GE', 'AMZN', 'DAI']\n",
    "\n",
    "# Create indexes\n",
    "index_alt = pd.MultiIndex.from_product([all_dates, tickers], names=['Date', 'Ticker'])\n",
    "index = pd.MultiIndex.from_product([business_dates, tickers], names=['Date', 'Ticker'])\n",
    "\n",
    "# Create DataFrames\n",
    "market_data = pd.DataFrame(index=index, data=np.random.randn(len(index), 3), columns=['Open','Close','Close_Adjusted'])\n",
    "alternative_data = pd.DataFrame(index=index_alt, data=np.random.randn(len(index_alt), 2), columns=['Twitter','Reddit'])\n",
    "\n",
    "# Merge with market_data as reference\n",
    "merged = market_data.join(alternative_data, how='left').fillna(0)\n",
    "print(merged.head(10))\n"
   ]
  }
 ],
 "metadata": {
  "kernelspec": {
   "display_name": "ex00",
   "language": "python",
   "name": "python3"
  },
  "language_info": {
   "codemirror_mode": {
    "name": "ipython",
    "version": 3
   },
   "file_extension": ".py",
   "mimetype": "text/x-python",
   "name": "python",
   "nbconvert_exporter": "python",
   "pygments_lexer": "ipython3",
   "version": "3.9.23"
  }
 },
 "nbformat": 4,
 "nbformat_minor": 5
}
